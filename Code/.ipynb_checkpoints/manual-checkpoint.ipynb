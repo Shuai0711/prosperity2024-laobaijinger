{
 "cells": [
  {
   "cell_type": "code",
   "execution_count": null,
   "id": "393ce45c-3a67-4103-9752-9200d4436f74",
   "metadata": {},
   "outputs": [],
   "source": [
    "import pandas as pd\n",
    "import numpy as np\n",
    "import math\n",
    "from scipy.optimize import minimize, LinearConstraint\n",
    "from matplotlib import pyplot as plt"
   ]
  },
  {
   "cell_type": "code",
   "execution_count": null,
   "id": "182ebf06-fdea-43f8-b75e-22bdd7237a97",
   "metadata": {},
   "outputs": [],
   "source": [
    "def objective(x):\n",
    "    b = 1 - k/2\n",
    "    x1 = x[0]\n",
    "    x2 = x[1]\n",
    "    n1 = (b+k*x1+b)*x1/2\n",
    "    n2 = (k*(x1+x2)+2*b)*(x2-x1)/2\n",
    "    p = n1 * (1-x1) + n2 * (1-x2)\n",
    "    return -p\n",
    "\n",
    "k=2\n",
    "linear_con = LinearConstraint([[1, 0],[0,1]], [0,0], [1,1])\n",
    "result = minimize(objective, x0=[0.5, 0.5], constraints=[linear_con])\n",
    "result"
   ]
  },
  {
   "cell_type": "code",
   "execution_count": null,
   "id": "043ddfdd-81b3-4724-b031-07c87688fed7",
   "metadata": {},
   "outputs": [],
   "source": [
    "#res = np.array([[0,0]])\n",
    "#for theta in np.arange(0,math.pi/4,math.pi/400).tolist():\n",
    "    k = math.tan(theta)\n",
    "    result = minimize(objective, x0=[0.5, 0.5], constraints=[linear_con])\n",
    "    res = np.concatenate((res,[result.x]),axis=0)"
   ]
  },
  {
   "cell_type": "code",
   "execution_count": null,
   "id": "fc69cb50-62d4-496b-b9ef-e1f17f0f1ecf",
   "metadata": {},
   "outputs": [],
   "source": [
    "prob = np.arange(0,0.02002,0.0002)\n",
    "choice = np.arange(0,101)\n",
    "sum(prob)\n",
    "\n",
    "#np.random.choice(choice,p=prob)"
   ]
  },
  {
   "cell_type": "code",
   "execution_count": null,
   "id": "9a8f8e99-2f43-4789-9bc1-9b04ad2783b1",
   "metadata": {},
   "outputs": [],
   "source": [
    "#round2\n",
    "item = [\"Pizza\",\"Wasabi\",\"Snowball\",\"Shells\"]\n",
    "mat = [[1,0.48,1.52,0.71],[2.05,1,3.26,1.56],[0.64,0.3,1,0.46],[1.41,0.61,2.08,1]]\n",
    "mat = np.array(mat)\n",
    "res = {}\n",
    "for a in range(4):\n",
    "    for b in range(4):\n",
    "        for c in range(4):\n",
    "            for d in range(4):\n",
    "                tmp = mat[3,a] * mat[a,b] * mat[b,c] * mat[c,d] * mat[d,3]\n",
    "                order = str(a)+str(b)+str(c)+str(d)+\"3\"\n",
    "                res[order] = tmp\n",
    "                \n",
    "                "
   ]
  },
  {
   "cell_type": "code",
   "execution_count": null,
   "id": "cab7861a-c9bc-44be-b23c-6ea7556fe35f",
   "metadata": {},
   "outputs": [],
   "source": [
    "for j in range(88, 100):\n",
    "    for trueMean in range(j,100):\n",
    "        p = {}\n",
    "        for i in range(j):\n",
    "            p[i] = i * (i+1) * (100-i) / 2 # x1 profit\n",
    "            ratio = (100-trueMean)/(100-j)\n",
    "            p[i] += (i+1+j) * (j-i) * (100-j) * ratio/2 # x2 profit\n",
    "        print(\"idx2:\",j,\"trueMean:\",trueMean,\"idx1:\",max(p,key=p.get),\"profit:\",max(p.values()))"
   ]
  },
  {
   "cell_type": "code",
   "execution_count": null,
   "id": "e9dcfeef-b464-4fef-b420-07427cd74d04",
   "metadata": {},
   "outputs": [],
   "source": [
    "for i in range(61,66):\n",
    "    for j in range(91,96):\n",
    "        for trueMean in range(90,99):\n",
    "            p=0\n",
    "            p = i * (i+1) * (100-i) / 2 # x1 profit\n",
    "            if trueMean <= j:\n",
    "                ratio = 1\n",
    "            else:\n",
    "                ratio = (100-trueMean)/(100-j)\n",
    "            p += (i+1+j) * (j-i) * (100-j) * ratio/2 # x2 profit\n",
    "            print(f\"TrueMean:{trueMean}, index:({i},{j}), profit:{p}\")"
   ]
  },
  {
   "cell_type": "code",
   "execution_count": null,
   "id": "c94946f6-12d4-4b40-a26d-2ff7ed94a336",
   "metadata": {},
   "outputs": [],
   "source": [
    "trueMean = 88\n",
    "i = 59\n",
    "j = 89\n",
    "p=0\n",
    "p = i * (i+1) * (100-i) / 2 # x1 profit\n",
    "if trueMean <= j:\n",
    "    ratio = 1\n",
    "else:\n",
    "    ratio = (100-trueMean)/(100-j)\n",
    "p += (i+1+j) * (j-i) * (100-j) * ratio/2 # x2 profit\n",
    "print(f\"TrueMean:{trueMean}, index:({i},{j}), profit:{p}\")"
   ]
  },
  {
   "cell_type": "code",
   "execution_count": null,
   "id": "916113fa-88be-44c4-a498-3c216e05e2d2",
   "metadata": {},
   "outputs": [],
   "source": [
    "import numpy as np\n",
    "import math\n",
    "\n",
    "class test:\n",
    "    def __init__(self):\n",
    "        self.sigma = 1.1999999999981286\n",
    "        self.K = 10000 \n",
    "        self.Time = 250\n",
    "        self.r = 0 \n",
    "        self.sigma_est=0.2\n",
    "        \n",
    "    def black_scholes_call(self, S, K=10000, T=250, r=0, sigma=0.0101193, ReturnDelta=False):\n",
    "        d1 = (np.log(S / K) + (r + 0.5 * sigma ** 2) * T) / (sigma * np.sqrt(T))\n",
    "        d2 = d1 - sigma * np.sqrt(T)\n",
    "        normcdf = lambda x: (1.0 + math.erf(x / np.sqrt(2))) / 2.0\n",
    "        N1 = normcdf(d1)  # Delta as the sensitivity of option value to underlying asset price\n",
    "        N2 = normcdf(d2)\n",
    "        call_price = S * N1 - K * np.exp(-r * T) * N2\n",
    "        if ReturnDelta:\n",
    "            return call_price, N1\n",
    "        else:\n",
    "            return call_price\n",
    "\n",
    "    def fit_volatility(self, vol_fit=0.01, S=10000, px=637.63, T=250, step=0.00001):\n",
    "        for i in range(30):\n",
    "            px_new = self.black_scholes_call(S=S, sigma=vol_fit, T=T)\n",
    "            if abs(px_new - px) < 0.01:\n",
    "                break\n",
    "            vol_fit = vol_fit + (px - px_new) * step\n",
    "        return vol_fit\n",
    "    \n",
    "t = test()\n",
    "t.sigma = t.fit_volatility()\n",
    "COCONUT_current_price = 660\n",
    "COUPON_fair_price, delta = t.black_scholes_call(COCONUT_current_price, t.K, t.Time, t.r, t.sigma, ReturnDelta=True)\n",
    "print(t.sigma)"
   ]
  },
  {
   "cell_type": "code",
   "execution_count": null,
   "id": "26f4e7e0-b230-4535-b2a0-cefcb626b622",
   "metadata": {},
   "outputs": [],
   "source": [
    "unit_invest = 7500\n",
    "expected_return = 30\n",
    "for i in range(expected_return):\n",
    "    p = (expected_return/100 - i*1.2) * i * 7500"
   ]
  }
 ],
 "metadata": {
  "kernelspec": {
   "display_name": "Python 3 (ipykernel)",
   "language": "python",
   "name": "python3"
  },
  "language_info": {
   "codemirror_mode": {
    "name": "ipython",
    "version": 3
   },
   "file_extension": ".py",
   "mimetype": "text/x-python",
   "name": "python",
   "nbconvert_exporter": "python",
   "pygments_lexer": "ipython3",
   "version": "3.9.13"
  }
 },
 "nbformat": 4,
 "nbformat_minor": 5
}
