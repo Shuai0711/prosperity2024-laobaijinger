{
 "cells": [
  {
   "cell_type": "code",
   "execution_count": 32,
   "id": "393ce45c-3a67-4103-9752-9200d4436f74",
   "metadata": {},
   "outputs": [],
   "source": [
    "import pandas as pd\n",
    "import numpy as np\n",
    "import math\n",
    "from scipy.optimize import minimize, LinearConstraint\n",
    "from matplotlib import pyplot as plt"
   ]
  },
  {
   "cell_type": "code",
   "execution_count": 33,
   "id": "182ebf06-fdea-43f8-b75e-22bdd7237a97",
   "metadata": {},
   "outputs": [
    {
     "data": {
      "text/plain": [
       "     fun: -0.20415860942992078\n",
       "     jac: array([-0.00048826, -0.00032068])\n",
       " message: 'Optimization terminated successfully'\n",
       "    nfev: 16\n",
       "     nit: 5\n",
       "    njev: 5\n",
       "  status: 0\n",
       " success: True\n",
       "       x: array([0.52121133, 0.7822854 ])"
      ]
     },
     "execution_count": 33,
     "metadata": {},
     "output_type": "execute_result"
    }
   ],
   "source": [
    "def objective(x):\n",
    "    b = 1 - k/2\n",
    "    x1 = x[0]\n",
    "    x2 = x[1]\n",
    "    n1 = (b+k*x1+b)*x1/2\n",
    "    n2 = (k*(x1+x2)+2*b)*(x2-x1)/2\n",
    "    p = n1 * (1-x1) + n2 * (1-x2)\n",
    "    return -p\n",
    "\n",
    "k=2\n",
    "linear_con = LinearConstraint([[1, 0],[0,1]], [0,0], [1,1])\n",
    "result = minimize(objective, x0=[0.5, 0.5], constraints=[linear_con])\n",
    "result"
   ]
  },
  {
   "cell_type": "code",
   "execution_count": 29,
   "id": "043ddfdd-81b3-4724-b031-07c87688fed7",
   "metadata": {},
   "outputs": [],
   "source": [
    "#res = np.array([[0,0]])\n",
    "#for theta in np.arange(0,math.pi/4,math.pi/400).tolist():\n",
    "    k = math.tan(theta)\n",
    "    result = minimize(objective, x0=[0.5, 0.5], constraints=[linear_con])\n",
    "    res = np.concatenate((res,[result.x]),axis=0)"
   ]
  },
  {
   "cell_type": "code",
   "execution_count": 57,
   "id": "fc69cb50-62d4-496b-b9ef-e1f17f0f1ecf",
   "metadata": {},
   "outputs": [
    {
     "data": {
      "text/plain": [
       "1.0099999999999998"
      ]
     },
     "execution_count": 57,
     "metadata": {},
     "output_type": "execute_result"
    }
   ],
   "source": [
    "prob = np.arange(0,0.02002,0.0002)\n",
    "choice = np.arange(0,101)\n",
    "sum(prob)\n",
    "\n",
    "#np.random.choice(choice,p=prob)"
   ]
  },
  {
   "cell_type": "code",
   "execution_count": 61,
   "id": "9a8f8e99-2f43-4789-9bc1-9b04ad2783b1",
   "metadata": {},
   "outputs": [
    {
     "data": {
      "text/plain": [
       "dict_keys(['kl'])"
      ]
     },
     "execution_count": 61,
     "metadata": {},
     "output_type": "execute_result"
    }
   ],
   "source": [
    "d = {\n",
    "    \"kl\" : 100\n",
    "}\n",
    "d.keys()"
   ]
  }
 ],
 "metadata": {
  "kernelspec": {
   "display_name": "Python 3 (ipykernel)",
   "language": "python",
   "name": "python3"
  },
  "language_info": {
   "codemirror_mode": {
    "name": "ipython",
    "version": 3
   },
   "file_extension": ".py",
   "mimetype": "text/x-python",
   "name": "python",
   "nbconvert_exporter": "python",
   "pygments_lexer": "ipython3",
   "version": "3.9.13"
  }
 },
 "nbformat": 4,
 "nbformat_minor": 5
}
